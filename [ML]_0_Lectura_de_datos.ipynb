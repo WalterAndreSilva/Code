{
  "nbformat": 4,
  "nbformat_minor": 0,
  "metadata": {
    "colab": {
      "provenance": [],
      "toc_visible": true,
      "include_colab_link": true
    },
    "kernelspec": {
      "name": "python3",
      "display_name": "Python 3"
    },
    "language_info": {
      "name": "python"
    }
  },
  "cells": [
    {
      "cell_type": "markdown",
      "metadata": {
        "id": "view-in-github",
        "colab_type": "text"
      },
      "source": [
        "<a href=\"https://colab.research.google.com/github/WalterAndreSilva/Code/blob/main/%5BML%5D_0_Lectura_de_datos.ipynb\" target=\"_parent\"><img src=\"https://colab.research.google.com/assets/colab-badge.svg\" alt=\"Open In Colab\"/></a>"
      ]
    },
    {
      "cell_type": "markdown",
      "source": [
        "# Aprendizaje Automático - Matemática Discreta II - 2023\n",
        "\n",
        "## Análisis de Salarios de Programadores Argentinos según SysArmy\n",
        "\n",
        "¡Bienvenidos a la clase de Aprendizaje Automático! En esta sesión, exploraremos uno de los conjuntos de datos más relevantes para la comunidad de programadores argentinos: el resultado de la encuesta de salarios realizada por SysArmy en 2022.\n",
        "\n",
        "La información recopilada en esta encuesta proporciona una visión detallada y actualizada de los salarios de los programadores en Argentina, abarcando una amplia gama de tecnologías, habilidades y niveles de experiencia. Utilizaremos este conjunto de datos para aplicar conceptos y técnicas fundamentales de aprendizaje automático con el objetivo de extraer información valiosa y realizar análisis significativos.\n",
        "\n",
        "Durante esta clase, exploraremos diversas etapas del proceso de aprendizaje automático, desde la preparación de los datos hasta la construcción y evaluación de modelos predictivos. Además, aprenderemos a utilizar bibliotecas populares de Python, como scikit-learn, para implementar algoritmos de aprendizaje automático y visualizar los resultados obtenidos.\n",
        "\n",
        "Algunos de los temas que cubriremos incluyen:\n",
        "\n",
        "* Análisis exploratorio de datos: Comprenderemos la estructura del conjunto de datos, exploraremos sus características principales y realizaremos visualizaciones para obtener información preliminar sobre los salarios de los programadores.\n",
        "* Preprocesamiento de datos: Realizaremos tareas de limpieza, transformación y selección de características para garantizar la calidad y la adecuación de los datos antes de entrenar nuestros modelos de aprendizaje automático.\n",
        "* Modelado predictivo: Implementaremos y evaluaremos varios algoritmos de aprendizaje automático, como regresión lineal, árboles de decisión y modelos de clasificación, para predecir salarios basados en diferentes variables independientes.\n",
        "* Evaluación y optimización de modelos: Utilizaremos métricas de evaluación para medir el rendimiento de nuestros modelos y (en clases posteriores) ajustar los hiperparámetros para lograr mejores resultados.\n",
        "\n",
        "Al final de esta clase, esperamos que los participantes hayan adquirido una comprensión sólida de cómo aplicar el aprendizaje automático a conjuntos de datos del mundo real, utilizando el caso de estudio de los salarios de programadores argentinos en SysArmy 2022 como ejemplo. También se animará a los estudiantes a explorar y realizar análisis adicionales utilizando las habilidades y técnicas aprendidas en esta clase.\n",
        "\n",
        "¡Vamos a sumergirnos en el emocionante mundo del aprendizaje automático y descubrir insights valiosos a partir de los datos de la encuesta de salarios de programadores argentinos en SysArmy 2022!\n",
        "\n",
        "(Nota: ChatGPT es muy entusiasta, pero lo hizo perfecto)"
      ],
      "metadata": {
        "id": "9DCqKHfLJ_x2"
      }
    },
    {
      "cell_type": "markdown",
      "source": [
        "PARA USAR LA NOTEBOOK, CREAR UNA COPIA!"
      ],
      "metadata": {
        "id": "tOA-UIBL9E3O"
      }
    },
    {
      "cell_type": "markdown",
      "source": [
        "## Sección 0: Leyendo los datos\n",
        "\n",
        "Primero que nada, importamos todas las librerías necesarias\n"
      ],
      "metadata": {
        "id": "jpMyD6xSOKF6"
      }
    },
    {
      "cell_type": "code",
      "source": [
        "import numpy\n",
        "import pandas\n",
        "import seaborn"
      ],
      "metadata": {
        "id": "OFgsWfDhL6wg"
      },
      "execution_count": null,
      "outputs": []
    },
    {
      "cell_type": "markdown",
      "source": [
        "Antes de comenzar con el análisis de los datos, necesitamos cargar el conjunto de datos de la encuesta de salarios de programadores argentinos en SysArmy 2022. Para hacer esto, sigue estos pasos:\n",
        "\n",
        "Haz clic en el botón 'Choose File' o 'Seleccionar archivo' que aparecerá a continuación.\n",
        "Selecciona el archivo CSV que contiene los datos de la encuesta en tu computadora.\n",
        "Haz clic en el botón 'Upload' o 'Subir' para cargar el archivo.\n",
        "Asegúrate de que el archivo esté en formato CSV y contenga la información correcta antes de cargarlo. Una vez que hayas subido el archivo correctamente, continuaremos con el análisis de los datos para obtener información valiosa sobre los salarios de los programadores argentinos.\n",
        "\n",
        "Tambien se puede subir el archivo utilizando el panel lateral que describe el sistema de archivos virtual del kernel de esta notebook. Vean el [tutorial introductorio](https://www.youtube.com/watch?v=8VFYs3Ot_aA) para más detalles."
      ],
      "metadata": {
        "id": "H5L46FRbOJUs"
      }
    },
    {
      "cell_type": "code",
      "execution_count": null,
      "metadata": {
        "colab": {
          "base_uri": "https://localhost:8080/",
          "height": 73
        },
        "id": "-jEzMQ5rw2Km",
        "outputId": "b9570621-0116-49ae-e816-e5ab2cf6829e"
      },
      "outputs": [
        {
          "output_type": "display_data",
          "data": {
            "text/plain": [
              "<IPython.core.display.HTML object>"
            ],
            "text/html": [
              "\n",
              "     <input type=\"file\" id=\"files-83ad14f5-9f49-4738-99c0-076883b11da6\" name=\"files[]\" multiple disabled\n",
              "        style=\"border:none\" />\n",
              "     <output id=\"result-83ad14f5-9f49-4738-99c0-076883b11da6\">\n",
              "      Upload widget is only available when the cell has been executed in the\n",
              "      current browser session. Please rerun this cell to enable.\n",
              "      </output>\n",
              "      <script>// Copyright 2017 Google LLC\n",
              "//\n",
              "// Licensed under the Apache License, Version 2.0 (the \"License\");\n",
              "// you may not use this file except in compliance with the License.\n",
              "// You may obtain a copy of the License at\n",
              "//\n",
              "//      http://www.apache.org/licenses/LICENSE-2.0\n",
              "//\n",
              "// Unless required by applicable law or agreed to in writing, software\n",
              "// distributed under the License is distributed on an \"AS IS\" BASIS,\n",
              "// WITHOUT WARRANTIES OR CONDITIONS OF ANY KIND, either express or implied.\n",
              "// See the License for the specific language governing permissions and\n",
              "// limitations under the License.\n",
              "\n",
              "/**\n",
              " * @fileoverview Helpers for google.colab Python module.\n",
              " */\n",
              "(function(scope) {\n",
              "function span(text, styleAttributes = {}) {\n",
              "  const element = document.createElement('span');\n",
              "  element.textContent = text;\n",
              "  for (const key of Object.keys(styleAttributes)) {\n",
              "    element.style[key] = styleAttributes[key];\n",
              "  }\n",
              "  return element;\n",
              "}\n",
              "\n",
              "// Max number of bytes which will be uploaded at a time.\n",
              "const MAX_PAYLOAD_SIZE = 100 * 1024;\n",
              "\n",
              "function _uploadFiles(inputId, outputId) {\n",
              "  const steps = uploadFilesStep(inputId, outputId);\n",
              "  const outputElement = document.getElementById(outputId);\n",
              "  // Cache steps on the outputElement to make it available for the next call\n",
              "  // to uploadFilesContinue from Python.\n",
              "  outputElement.steps = steps;\n",
              "\n",
              "  return _uploadFilesContinue(outputId);\n",
              "}\n",
              "\n",
              "// This is roughly an async generator (not supported in the browser yet),\n",
              "// where there are multiple asynchronous steps and the Python side is going\n",
              "// to poll for completion of each step.\n",
              "// This uses a Promise to block the python side on completion of each step,\n",
              "// then passes the result of the previous step as the input to the next step.\n",
              "function _uploadFilesContinue(outputId) {\n",
              "  const outputElement = document.getElementById(outputId);\n",
              "  const steps = outputElement.steps;\n",
              "\n",
              "  const next = steps.next(outputElement.lastPromiseValue);\n",
              "  return Promise.resolve(next.value.promise).then((value) => {\n",
              "    // Cache the last promise value to make it available to the next\n",
              "    // step of the generator.\n",
              "    outputElement.lastPromiseValue = value;\n",
              "    return next.value.response;\n",
              "  });\n",
              "}\n",
              "\n",
              "/**\n",
              " * Generator function which is called between each async step of the upload\n",
              " * process.\n",
              " * @param {string} inputId Element ID of the input file picker element.\n",
              " * @param {string} outputId Element ID of the output display.\n",
              " * @return {!Iterable<!Object>} Iterable of next steps.\n",
              " */\n",
              "function* uploadFilesStep(inputId, outputId) {\n",
              "  const inputElement = document.getElementById(inputId);\n",
              "  inputElement.disabled = false;\n",
              "\n",
              "  const outputElement = document.getElementById(outputId);\n",
              "  outputElement.innerHTML = '';\n",
              "\n",
              "  const pickedPromise = new Promise((resolve) => {\n",
              "    inputElement.addEventListener('change', (e) => {\n",
              "      resolve(e.target.files);\n",
              "    });\n",
              "  });\n",
              "\n",
              "  const cancel = document.createElement('button');\n",
              "  inputElement.parentElement.appendChild(cancel);\n",
              "  cancel.textContent = 'Cancel upload';\n",
              "  const cancelPromise = new Promise((resolve) => {\n",
              "    cancel.onclick = () => {\n",
              "      resolve(null);\n",
              "    };\n",
              "  });\n",
              "\n",
              "  // Wait for the user to pick the files.\n",
              "  const files = yield {\n",
              "    promise: Promise.race([pickedPromise, cancelPromise]),\n",
              "    response: {\n",
              "      action: 'starting',\n",
              "    }\n",
              "  };\n",
              "\n",
              "  cancel.remove();\n",
              "\n",
              "  // Disable the input element since further picks are not allowed.\n",
              "  inputElement.disabled = true;\n",
              "\n",
              "  if (!files) {\n",
              "    return {\n",
              "      response: {\n",
              "        action: 'complete',\n",
              "      }\n",
              "    };\n",
              "  }\n",
              "\n",
              "  for (const file of files) {\n",
              "    const li = document.createElement('li');\n",
              "    li.append(span(file.name, {fontWeight: 'bold'}));\n",
              "    li.append(span(\n",
              "        `(${file.type || 'n/a'}) - ${file.size} bytes, ` +\n",
              "        `last modified: ${\n",
              "            file.lastModifiedDate ? file.lastModifiedDate.toLocaleDateString() :\n",
              "                                    'n/a'} - `));\n",
              "    const percent = span('0% done');\n",
              "    li.appendChild(percent);\n",
              "\n",
              "    outputElement.appendChild(li);\n",
              "\n",
              "    const fileDataPromise = new Promise((resolve) => {\n",
              "      const reader = new FileReader();\n",
              "      reader.onload = (e) => {\n",
              "        resolve(e.target.result);\n",
              "      };\n",
              "      reader.readAsArrayBuffer(file);\n",
              "    });\n",
              "    // Wait for the data to be ready.\n",
              "    let fileData = yield {\n",
              "      promise: fileDataPromise,\n",
              "      response: {\n",
              "        action: 'continue',\n",
              "      }\n",
              "    };\n",
              "\n",
              "    // Use a chunked sending to avoid message size limits. See b/62115660.\n",
              "    let position = 0;\n",
              "    do {\n",
              "      const length = Math.min(fileData.byteLength - position, MAX_PAYLOAD_SIZE);\n",
              "      const chunk = new Uint8Array(fileData, position, length);\n",
              "      position += length;\n",
              "\n",
              "      const base64 = btoa(String.fromCharCode.apply(null, chunk));\n",
              "      yield {\n",
              "        response: {\n",
              "          action: 'append',\n",
              "          file: file.name,\n",
              "          data: base64,\n",
              "        },\n",
              "      };\n",
              "\n",
              "      let percentDone = fileData.byteLength === 0 ?\n",
              "          100 :\n",
              "          Math.round((position / fileData.byteLength) * 100);\n",
              "      percent.textContent = `${percentDone}% done`;\n",
              "\n",
              "    } while (position < fileData.byteLength);\n",
              "  }\n",
              "\n",
              "  // All done.\n",
              "  yield {\n",
              "    response: {\n",
              "      action: 'complete',\n",
              "    }\n",
              "  };\n",
              "}\n",
              "\n",
              "scope.google = scope.google || {};\n",
              "scope.google.colab = scope.google.colab || {};\n",
              "scope.google.colab._files = {\n",
              "  _uploadFiles,\n",
              "  _uploadFilesContinue,\n",
              "};\n",
              "})(self);\n",
              "</script> "
            ]
          },
          "metadata": {}
        },
        {
          "output_type": "stream",
          "name": "stdout",
          "text": [
            "Saving encuesta_sysarmy_2022_2_clean.csv to encuesta_sysarmy_2022_2_clean.csv\n"
          ]
        }
      ],
      "source": [
        "from google.colab import files\n",
        "\n",
        "# Subir archivo\n",
        "uploaded = files.upload()"
      ]
    },
    {
      "cell_type": "code",
      "source": [
        "# Obtener nombre del archivo subido\n",
        "filename = list(uploaded.keys())[0]\n",
        "filename"
      ],
      "metadata": {
        "colab": {
          "base_uri": "https://localhost:8080/",
          "height": 35
        },
        "id": "Z1IY9zJhQOTX",
        "outputId": "39c89017-22dd-4561-8548-4ad31bea5c93"
      },
      "execution_count": null,
      "outputs": [
        {
          "output_type": "execute_result",
          "data": {
            "text/plain": [
              "'encuesta_sysarmy_2022_2_clean.csv'"
            ],
            "application/vnd.google.colaboratory.intrinsic+json": {
              "type": "string"
            }
          },
          "metadata": {},
          "execution_count": 3
        }
      ]
    },
    {
      "cell_type": "code",
      "source": [
        "# Leemos el archivo usando nuestra libreria pandas\n",
        "raw_dataset = pandas.read_csv(filename)\n",
        "# Visualizamos las primeras 5 filas\n",
        "raw_dataset.head()"
      ],
      "metadata": {
        "colab": {
          "base_uri": "https://localhost:8080/",
          "height": 664
        },
        "id": "nEQ8lNDxKUpP",
        "outputId": "e226589d-f983-41b5-d15b-3826dbf1de09"
      },
      "execution_count": null,
      "outputs": [
        {
          "output_type": "execute_result",
          "data": {
            "text/plain": [
              "  Estoy trabajando en  Dónde estás trabajando Dedicación  \\\n",
              "0            Argentina              Catamarca  Full-Time   \n",
              "1            Argentina                  Chaco  Full-Time   \n",
              "2            Argentina                  Chaco  Full-Time   \n",
              "3            Argentina                  Chaco  Full-Time   \n",
              "4            Argentina                  Chaco  Full-Time   \n",
              "\n",
              "                Tipo de contrato  \\\n",
              "0      Staff (planta permanente)   \n",
              "1  Remoto (empresa de otro país)   \n",
              "2      Staff (planta permanente)   \n",
              "3  Remoto (empresa de otro país)   \n",
              "4      Staff (planta permanente)   \n",
              "\n",
              "  Último salario mensual  o retiro BRUTO (en tu moneda local)  \\\n",
              "0                                             300000            \n",
              "1                                             900000            \n",
              "2                                             120000            \n",
              "3                                             440000            \n",
              "4                                             140000            \n",
              "\n",
              "  Último salario mensual o retiro NETO (en tu moneda local)  \\\n",
              "0                                             245000          \n",
              "1                                             850000          \n",
              "2                                             115000          \n",
              "3                                                NaN          \n",
              "4                                             125000          \n",
              "\n",
              "                   Pagos en dólares  \\\n",
              "0                               NaN   \n",
              "1  Cobro todo el salario en dólares   \n",
              "2                               NaN   \n",
              "3  Cobro todo el salario en dólares   \n",
              "4                               NaN   \n",
              "\n",
              "  Si tu sueldo está dolarizado ¿Cuál fue el último valor del dólar que tomaron?  \\\n",
              "0                                                NaN                              \n",
              "1                                                300                              \n",
              "2                                                NaN                              \n",
              "3                                                220                              \n",
              "4                                                NaN                              \n",
              "\n",
              "                Pagos en criptomonedas  \\\n",
              "0                                  NaN   \n",
              "1                                  NaN   \n",
              "2                                  NaN   \n",
              "3  Cobro todo el salario criptomonedas   \n",
              "4                                  NaN   \n",
              "\n",
              "  ¿Qué porcentaje o monto recibís en criptomonedas?  ...    Estado  \\\n",
              "0                                               NaN  ...  Completo   \n",
              "1                                               NaN  ...       NaN   \n",
              "2                                               NaN  ...       NaN   \n",
              "3                                              100%  ...       NaN   \n",
              "4                                               NaN  ...       NaN   \n",
              "\n",
              "                                         Carrera                 Universidad   \\\n",
              "0  Licenciatura en redes y comunicación de datos  UP - Universidad de Palermo   \n",
              "1                                            NaN                          NaN   \n",
              "2                                            NaN                          NaN   \n",
              "3                                            NaN                          NaN   \n",
              "4                                            NaN                          NaN   \n",
              "\n",
              "  ¿Participaste de algún Boot Camp?  \\\n",
              "0                               NaN   \n",
              "1                               NaN   \n",
              "2                               NaN   \n",
              "3                               NaN   \n",
              "4                               NaN   \n",
              "\n",
              "  Si participaste de un Boot Camp, ¿qué carrera estudiaste?  \\\n",
              "0                                                NaN          \n",
              "1                                                NaN          \n",
              "2                                                NaN          \n",
              "3                                                NaN          \n",
              "4                                                NaN          \n",
              "\n",
              "   ¿Tenés guardias?  Cuánto cobrás por guardia  ¿Porcentaje, bruto o neto?  \\\n",
              "0                NaN                       NaN                         NaN   \n",
              "1                NaN                       NaN                         NaN   \n",
              "2                NaN                       NaN                         NaN   \n",
              "3                NaN                       NaN                         NaN   \n",
              "4                NaN                       NaN                         NaN   \n",
              "\n",
              "  Tengo (edad)  Me identifico (género)  \n",
              "0           35               Varón Cis  \n",
              "1           31               Varón Cis  \n",
              "2           27               Varón Cis  \n",
              "3           21               Varón Cis  \n",
              "4           32               Varón Cis  \n",
              "\n",
              "[5 rows x 43 columns]"
            ],
            "text/html": [
              "\n",
              "  <div id=\"df-0902528f-1b29-44b2-a6fc-f21614253f58\">\n",
              "    <div class=\"colab-df-container\">\n",
              "      <div>\n",
              "<style scoped>\n",
              "    .dataframe tbody tr th:only-of-type {\n",
              "        vertical-align: middle;\n",
              "    }\n",
              "\n",
              "    .dataframe tbody tr th {\n",
              "        vertical-align: top;\n",
              "    }\n",
              "\n",
              "    .dataframe thead th {\n",
              "        text-align: right;\n",
              "    }\n",
              "</style>\n",
              "<table border=\"1\" class=\"dataframe\">\n",
              "  <thead>\n",
              "    <tr style=\"text-align: right;\">\n",
              "      <th></th>\n",
              "      <th>Estoy trabajando en</th>\n",
              "      <th>Dónde estás trabajando</th>\n",
              "      <th>Dedicación</th>\n",
              "      <th>Tipo de contrato</th>\n",
              "      <th>Último salario mensual  o retiro BRUTO (en tu moneda local)</th>\n",
              "      <th>Último salario mensual o retiro NETO (en tu moneda local)</th>\n",
              "      <th>Pagos en dólares</th>\n",
              "      <th>Si tu sueldo está dolarizado ¿Cuál fue el último valor del dólar que tomaron?</th>\n",
              "      <th>Pagos en criptomonedas</th>\n",
              "      <th>¿Qué porcentaje o monto recibís en criptomonedas?</th>\n",
              "      <th>...</th>\n",
              "      <th>Estado</th>\n",
              "      <th>Carrera</th>\n",
              "      <th>Universidad</th>\n",
              "      <th>¿Participaste de algún Boot Camp?</th>\n",
              "      <th>Si participaste de un Boot Camp, ¿qué carrera estudiaste?</th>\n",
              "      <th>¿Tenés guardias?</th>\n",
              "      <th>Cuánto cobrás por guardia</th>\n",
              "      <th>¿Porcentaje, bruto o neto?</th>\n",
              "      <th>Tengo (edad)</th>\n",
              "      <th>Me identifico (género)</th>\n",
              "    </tr>\n",
              "  </thead>\n",
              "  <tbody>\n",
              "    <tr>\n",
              "      <th>0</th>\n",
              "      <td>Argentina</td>\n",
              "      <td>Catamarca</td>\n",
              "      <td>Full-Time</td>\n",
              "      <td>Staff (planta permanente)</td>\n",
              "      <td>300000</td>\n",
              "      <td>245000</td>\n",
              "      <td>NaN</td>\n",
              "      <td>NaN</td>\n",
              "      <td>NaN</td>\n",
              "      <td>NaN</td>\n",
              "      <td>...</td>\n",
              "      <td>Completo</td>\n",
              "      <td>Licenciatura en redes y comunicación de datos</td>\n",
              "      <td>UP - Universidad de Palermo</td>\n",
              "      <td>NaN</td>\n",
              "      <td>NaN</td>\n",
              "      <td>NaN</td>\n",
              "      <td>NaN</td>\n",
              "      <td>NaN</td>\n",
              "      <td>35</td>\n",
              "      <td>Varón Cis</td>\n",
              "    </tr>\n",
              "    <tr>\n",
              "      <th>1</th>\n",
              "      <td>Argentina</td>\n",
              "      <td>Chaco</td>\n",
              "      <td>Full-Time</td>\n",
              "      <td>Remoto (empresa de otro país)</td>\n",
              "      <td>900000</td>\n",
              "      <td>850000</td>\n",
              "      <td>Cobro todo el salario en dólares</td>\n",
              "      <td>300</td>\n",
              "      <td>NaN</td>\n",
              "      <td>NaN</td>\n",
              "      <td>...</td>\n",
              "      <td>NaN</td>\n",
              "      <td>NaN</td>\n",
              "      <td>NaN</td>\n",
              "      <td>NaN</td>\n",
              "      <td>NaN</td>\n",
              "      <td>NaN</td>\n",
              "      <td>NaN</td>\n",
              "      <td>NaN</td>\n",
              "      <td>31</td>\n",
              "      <td>Varón Cis</td>\n",
              "    </tr>\n",
              "    <tr>\n",
              "      <th>2</th>\n",
              "      <td>Argentina</td>\n",
              "      <td>Chaco</td>\n",
              "      <td>Full-Time</td>\n",
              "      <td>Staff (planta permanente)</td>\n",
              "      <td>120000</td>\n",
              "      <td>115000</td>\n",
              "      <td>NaN</td>\n",
              "      <td>NaN</td>\n",
              "      <td>NaN</td>\n",
              "      <td>NaN</td>\n",
              "      <td>...</td>\n",
              "      <td>NaN</td>\n",
              "      <td>NaN</td>\n",
              "      <td>NaN</td>\n",
              "      <td>NaN</td>\n",
              "      <td>NaN</td>\n",
              "      <td>NaN</td>\n",
              "      <td>NaN</td>\n",
              "      <td>NaN</td>\n",
              "      <td>27</td>\n",
              "      <td>Varón Cis</td>\n",
              "    </tr>\n",
              "    <tr>\n",
              "      <th>3</th>\n",
              "      <td>Argentina</td>\n",
              "      <td>Chaco</td>\n",
              "      <td>Full-Time</td>\n",
              "      <td>Remoto (empresa de otro país)</td>\n",
              "      <td>440000</td>\n",
              "      <td>NaN</td>\n",
              "      <td>Cobro todo el salario en dólares</td>\n",
              "      <td>220</td>\n",
              "      <td>Cobro todo el salario criptomonedas</td>\n",
              "      <td>100%</td>\n",
              "      <td>...</td>\n",
              "      <td>NaN</td>\n",
              "      <td>NaN</td>\n",
              "      <td>NaN</td>\n",
              "      <td>NaN</td>\n",
              "      <td>NaN</td>\n",
              "      <td>NaN</td>\n",
              "      <td>NaN</td>\n",
              "      <td>NaN</td>\n",
              "      <td>21</td>\n",
              "      <td>Varón Cis</td>\n",
              "    </tr>\n",
              "    <tr>\n",
              "      <th>4</th>\n",
              "      <td>Argentina</td>\n",
              "      <td>Chaco</td>\n",
              "      <td>Full-Time</td>\n",
              "      <td>Staff (planta permanente)</td>\n",
              "      <td>140000</td>\n",
              "      <td>125000</td>\n",
              "      <td>NaN</td>\n",
              "      <td>NaN</td>\n",
              "      <td>NaN</td>\n",
              "      <td>NaN</td>\n",
              "      <td>...</td>\n",
              "      <td>NaN</td>\n",
              "      <td>NaN</td>\n",
              "      <td>NaN</td>\n",
              "      <td>NaN</td>\n",
              "      <td>NaN</td>\n",
              "      <td>NaN</td>\n",
              "      <td>NaN</td>\n",
              "      <td>NaN</td>\n",
              "      <td>32</td>\n",
              "      <td>Varón Cis</td>\n",
              "    </tr>\n",
              "  </tbody>\n",
              "</table>\n",
              "<p>5 rows × 43 columns</p>\n",
              "</div>\n",
              "      <button class=\"colab-df-convert\" onclick=\"convertToInteractive('df-0902528f-1b29-44b2-a6fc-f21614253f58')\"\n",
              "              title=\"Convert this dataframe to an interactive table.\"\n",
              "              style=\"display:none;\">\n",
              "        \n",
              "  <svg xmlns=\"http://www.w3.org/2000/svg\" height=\"24px\"viewBox=\"0 0 24 24\"\n",
              "       width=\"24px\">\n",
              "    <path d=\"M0 0h24v24H0V0z\" fill=\"none\"/>\n",
              "    <path d=\"M18.56 5.44l.94 2.06.94-2.06 2.06-.94-2.06-.94-.94-2.06-.94 2.06-2.06.94zm-11 1L8.5 8.5l.94-2.06 2.06-.94-2.06-.94L8.5 2.5l-.94 2.06-2.06.94zm10 10l.94 2.06.94-2.06 2.06-.94-2.06-.94-.94-2.06-.94 2.06-2.06.94z\"/><path d=\"M17.41 7.96l-1.37-1.37c-.4-.4-.92-.59-1.43-.59-.52 0-1.04.2-1.43.59L10.3 9.45l-7.72 7.72c-.78.78-.78 2.05 0 2.83L4 21.41c.39.39.9.59 1.41.59.51 0 1.02-.2 1.41-.59l7.78-7.78 2.81-2.81c.8-.78.8-2.07 0-2.86zM5.41 20L4 18.59l7.72-7.72 1.47 1.35L5.41 20z\"/>\n",
              "  </svg>\n",
              "      </button>\n",
              "      \n",
              "  <style>\n",
              "    .colab-df-container {\n",
              "      display:flex;\n",
              "      flex-wrap:wrap;\n",
              "      gap: 12px;\n",
              "    }\n",
              "\n",
              "    .colab-df-convert {\n",
              "      background-color: #E8F0FE;\n",
              "      border: none;\n",
              "      border-radius: 50%;\n",
              "      cursor: pointer;\n",
              "      display: none;\n",
              "      fill: #1967D2;\n",
              "      height: 32px;\n",
              "      padding: 0 0 0 0;\n",
              "      width: 32px;\n",
              "    }\n",
              "\n",
              "    .colab-df-convert:hover {\n",
              "      background-color: #E2EBFA;\n",
              "      box-shadow: 0px 1px 2px rgba(60, 64, 67, 0.3), 0px 1px 3px 1px rgba(60, 64, 67, 0.15);\n",
              "      fill: #174EA6;\n",
              "    }\n",
              "\n",
              "    [theme=dark] .colab-df-convert {\n",
              "      background-color: #3B4455;\n",
              "      fill: #D2E3FC;\n",
              "    }\n",
              "\n",
              "    [theme=dark] .colab-df-convert:hover {\n",
              "      background-color: #434B5C;\n",
              "      box-shadow: 0px 1px 3px 1px rgba(0, 0, 0, 0.15);\n",
              "      filter: drop-shadow(0px 1px 2px rgba(0, 0, 0, 0.3));\n",
              "      fill: #FFFFFF;\n",
              "    }\n",
              "  </style>\n",
              "\n",
              "      <script>\n",
              "        const buttonEl =\n",
              "          document.querySelector('#df-0902528f-1b29-44b2-a6fc-f21614253f58 button.colab-df-convert');\n",
              "        buttonEl.style.display =\n",
              "          google.colab.kernel.accessAllowed ? 'block' : 'none';\n",
              "\n",
              "        async function convertToInteractive(key) {\n",
              "          const element = document.querySelector('#df-0902528f-1b29-44b2-a6fc-f21614253f58');\n",
              "          const dataTable =\n",
              "            await google.colab.kernel.invokeFunction('convertToInteractive',\n",
              "                                                     [key], {});\n",
              "          if (!dataTable) return;\n",
              "\n",
              "          const docLinkHtml = 'Like what you see? Visit the ' +\n",
              "            '<a target=\"_blank\" href=https://colab.research.google.com/notebooks/data_table.ipynb>data table notebook</a>'\n",
              "            + ' to learn more about interactive tables.';\n",
              "          element.innerHTML = '';\n",
              "          dataTable['output_type'] = 'display_data';\n",
              "          await google.colab.output.renderOutput(dataTable, element);\n",
              "          const docLink = document.createElement('div');\n",
              "          docLink.innerHTML = docLinkHtml;\n",
              "          element.appendChild(docLink);\n",
              "        }\n",
              "      </script>\n",
              "    </div>\n",
              "  </div>\n",
              "  "
            ]
          },
          "metadata": {},
          "execution_count": 4
        }
      ]
    },
    {
      "cell_type": "markdown",
      "source": [
        "El dataset es tan grande que no podemos verlo entero! Lo primero que haremos será quedarnos con sólo unas cuantas columnas que nos interesen. Veamos cuáles tenemos disponibles."
      ],
      "metadata": {
        "id": "6DtQOkxZQiUv"
      }
    },
    {
      "cell_type": "code",
      "source": [
        "raw_dataset.columns"
      ],
      "metadata": {
        "colab": {
          "base_uri": "https://localhost:8080/"
        },
        "id": "yUQlkJ1_LSuQ",
        "outputId": "4bd76a46-7014-4621-a879-fa31af366671"
      },
      "execution_count": null,
      "outputs": [
        {
          "output_type": "execute_result",
          "data": {
            "text/plain": [
              "Index(['Estoy trabajando en ', 'Dónde estás trabajando', 'Dedicación',\n",
              "       'Tipo de contrato',\n",
              "       'Último salario mensual  o retiro BRUTO (en tu moneda local)',\n",
              "       'Último salario mensual o retiro NETO (en tu moneda local)',\n",
              "       'Pagos en dólares',\n",
              "       'Si tu sueldo está dolarizado ¿Cuál fue el último valor del dólar que tomaron?',\n",
              "       'Pagos en criptomonedas',\n",
              "       '¿Qué porcentaje o monto recibís en criptomonedas?',\n",
              "       'Recibís algún tipo de bono', 'A qué está atado el bono',\n",
              "       '¿Tuviste actualizaciones de tus ingresos laborales durante 2022? ',\n",
              "       '¿De qué % fue el ajuste total acumulado?',\n",
              "       '¿En qué mes fue el último ajuste? *',\n",
              "       'Cómo considerás que están tus ingresos laborales comparados con el semestre anterior',\n",
              "       'Con qué beneficios contas',\n",
              "       '¿Qué tan conforme estás con tus ingresos laborales?', 'Trabajo de',\n",
              "       'Años de experiencia', 'Antigüedad en la empresa actual',\n",
              "       'Tiempo en el puesto actual', '¿Cuántas personas a cargo tenés? ',\n",
              "       'Plataformas que utilizas en tu puesto actual ',\n",
              "       'Lenguajes de programación o tecnologías que utilices en tu puesto actual',\n",
              "       'Frameworks, herramientas y librerías que utilices en tu puesto actual',\n",
              "       'Bases de datos', 'QA / Testing',\n",
              "       'Cantidad de personas en tu organización', 'Modalidad de trabajo',\n",
              "       'Si trabajas bajo un esquema híbrido ¿Cuántos días a la semana vas a la oficina? ',\n",
              "       '¿La recomendás como un buen lugar para trabajar?',\n",
              "       'Máximo nivel de estudios', 'Estado', 'Carrera', 'Universidad ',\n",
              "       '¿Participaste de algún Boot Camp?',\n",
              "       'Si participaste de un Boot Camp, ¿qué carrera estudiaste?',\n",
              "       '¿Tenés guardias? ', 'Cuánto cobrás por guardia',\n",
              "       '¿Porcentaje, bruto o neto?', 'Tengo (edad)', 'Me identifico (género)'],\n",
              "      dtype='object')"
            ]
          },
          "metadata": {},
          "execution_count": 8
        }
      ]
    },
    {
      "cell_type": "markdown",
      "source": [
        "Y con cuáles nos quedamos? Tenemos que volver a la teoría para poder entender esto."
      ],
      "metadata": {
        "id": "jmFlpq8NQw9E"
      }
    },
    {
      "cell_type": "markdown",
      "source": [
        "## Sección 1: Definiendo el problema\n",
        "\n",
        "Recordemos que:\n",
        "\n",
        "> Un programa aprende a partir de la experiencia E con respecto a una tarea T y una medida de rendimiento P, si su desempeño en la tarea T, medido a través de P, mejora con la experiencia E."
      ],
      "metadata": {
        "id": "2COeUR2KRS6N"
      }
    },
    {
      "cell_type": "markdown",
      "source": [
        "\n",
        "### Sección 1.a: La tarea\n",
        "\n",
        "Hemos definido que nuestra tarea será\n",
        "\n",
        "> **Predecir el salario mensual bruto de une programadore Argentine en diciembre 2022**\n",
        "\n",
        "Nota: es importante aclarar que es en Argentina? Y que es en 2022? Sí, porque nuestra muestra de respuestas no es representativa de otras poblaciones y ubicaciones geograficas y temporales.\n",
        "\n",
        "Nota II: es importante que sea programador**e**. Para mí sí, por eso lo uso."
      ],
      "metadata": {
        "id": "eFOYmDzJayg4"
      }
    },
    {
      "cell_type": "markdown",
      "source": [
        "### Sección 1.b: La experiencia o selección de características\n",
        "\n",
        "En segundo lugar, tenemos que definir la *experiencia*, es decir, la información a partir de la cual el algoritmo mejorará su métrica de rendimiento. Esta etapa puede llamarse también *Selección de Características* o *Feature Selection*, y su objetivo es:\n",
        "\n",
        "* Mejorar la métrica de rendimiento: Al seleccionar solo las características más relevantes, podemos reducir la dimensionalidad de nuestros datos y eliminar aquellas que no aportan información útil.\n",
        "* Evitar la maldición de la dimensionalidad (*curse of dimensionality*): Veremos esto más en detalle en clases posteriores. A medida que aumenta el número de características, se vuelve más difícil obtener un buen rendimiento del modelo. La maldición de la dimensionalidad puede conducir a un sobreajuste (*overfitting*) o a una mayor complejidad computacional.\n",
        "* Interpretabilidad y comprensión: Al seleccionar características relevantes, podemos comprender mejor los factores que influyen en nuestra tarea de aprendizaje. No es el objetivo principal de esta materia, pero aporta al objetivo de desarrollar **criterio**.\n",
        "\n",
        "Es importante tener en cuenta que no existe un enfoque único para la selección de características que funcione en todos los casos. La elección del método depende del tipo de datos, del problema que estamos abordando y de las características específicas del conjunto de datos.\n",
        "\n",
        "Como estamos trabajando en un problema muy simplificado, haremos solo el primer paso de utilizar nuestra intuición y seleccionar los features que nos parecen relevantes. Son bienvenidos a explorar otras combinaciones de features (o aplicar técnicas más avanzadas)."
      ],
      "metadata": {
        "id": "r08wzzYTXySb"
      }
    },
    {
      "cell_type": "markdown",
      "source": [
        "Además de esto, aprovecharemos para hacer un poco de limpieza. Vamos a quedarnos solo con las columnas que serán nuestros features y nuestro objetivo, y las vamos a renombrar para que sea más fácil el trabajo."
      ],
      "metadata": {
        "id": "oH5MOdOhZRUw"
      }
    },
    {
      "cell_type": "code",
      "source": [
        "# Easy way to see the values in a specific column\n",
        "raw_dataset['Me identifico (género)'].value_counts(dropna=False)"
      ],
      "metadata": {
        "colab": {
          "base_uri": "https://localhost:8080/"
        },
        "id": "xUXGNOrbbDfo",
        "outputId": "85c128f5-9e52-4f4b-b40b-def075bd24fd"
      },
      "execution_count": null,
      "outputs": [
        {
          "output_type": "execute_result",
          "data": {
            "text/plain": [
              "Varón Cis                                   3902\n",
              "Mujer Cis                                    910\n",
              "Prefiero no decir                            203\n",
              "Hombre                                        33\n",
              "No binarie                                    31\n",
              "                                            ... \n",
              "MASCULINO                                      1\n",
              "Masculino                                      1\n",
              "Masculino, pelotudos                           1\n",
              "Me identifico como un helicóptero apache       1\n",
              "?                                              1\n",
              "Name: Me identifico (género), Length: 137, dtype: int64"
            ]
          },
          "metadata": {},
          "execution_count": 9
        }
      ]
    },
    {
      "cell_type": "code",
      "source": [
        "# In Python, constant variables are written in uppercase\n",
        "TARGET_COLUMN = 'net_monthly_salary'\n",
        "\n",
        "COLUMN_RENAMES = {\n",
        "    'Dónde estás trabajando': 'province',\n",
        "    'Dedicación': 'dedication',\n",
        "    'Tipo de contrato': 'contract_type',\n",
        "    'Último salario mensual o retiro NETO (en tu moneda local)': TARGET_COLUMN,\n",
        "    'Tengo (edad)': 'age',\n",
        "    'Me identifico (género)': 'gender'\n",
        "}\n",
        "FEATURE_COLUMNS = list(COLUMN_RENAMES.keys())\n",
        "\n",
        "# Keep only the feature columns\n",
        "dataset = raw_dataset[FEATURE_COLUMNS]\n",
        "# Rename them\n",
        "dataset = dataset.rename(columns=COLUMN_RENAMES)\n",
        "dataset.head()"
      ],
      "metadata": {
        "id": "AsEdaB1yRSBt",
        "colab": {
          "base_uri": "https://localhost:8080/",
          "height": 206
        },
        "outputId": "de5e0ed7-4170-4382-9f1f-89043c4a6d97"
      },
      "execution_count": null,
      "outputs": [
        {
          "output_type": "execute_result",
          "data": {
            "text/plain": [
              "    province dedication                  contract_type net_monthly_salary age  \\\n",
              "0  Catamarca  Full-Time      Staff (planta permanente)             245000  35   \n",
              "1      Chaco  Full-Time  Remoto (empresa de otro país)             850000  31   \n",
              "2      Chaco  Full-Time      Staff (planta permanente)             115000  27   \n",
              "3      Chaco  Full-Time  Remoto (empresa de otro país)                NaN  21   \n",
              "4      Chaco  Full-Time      Staff (planta permanente)             125000  32   \n",
              "\n",
              "      gender  \n",
              "0  Varón Cis  \n",
              "1  Varón Cis  \n",
              "2  Varón Cis  \n",
              "3  Varón Cis  \n",
              "4  Varón Cis  "
            ],
            "text/html": [
              "\n",
              "  <div id=\"df-7b5bd35b-07d3-4bba-b969-ebf132a10844\">\n",
              "    <div class=\"colab-df-container\">\n",
              "      <div>\n",
              "<style scoped>\n",
              "    .dataframe tbody tr th:only-of-type {\n",
              "        vertical-align: middle;\n",
              "    }\n",
              "\n",
              "    .dataframe tbody tr th {\n",
              "        vertical-align: top;\n",
              "    }\n",
              "\n",
              "    .dataframe thead th {\n",
              "        text-align: right;\n",
              "    }\n",
              "</style>\n",
              "<table border=\"1\" class=\"dataframe\">\n",
              "  <thead>\n",
              "    <tr style=\"text-align: right;\">\n",
              "      <th></th>\n",
              "      <th>province</th>\n",
              "      <th>dedication</th>\n",
              "      <th>contract_type</th>\n",
              "      <th>net_monthly_salary</th>\n",
              "      <th>age</th>\n",
              "      <th>gender</th>\n",
              "    </tr>\n",
              "  </thead>\n",
              "  <tbody>\n",
              "    <tr>\n",
              "      <th>0</th>\n",
              "      <td>Catamarca</td>\n",
              "      <td>Full-Time</td>\n",
              "      <td>Staff (planta permanente)</td>\n",
              "      <td>245000</td>\n",
              "      <td>35</td>\n",
              "      <td>Varón Cis</td>\n",
              "    </tr>\n",
              "    <tr>\n",
              "      <th>1</th>\n",
              "      <td>Chaco</td>\n",
              "      <td>Full-Time</td>\n",
              "      <td>Remoto (empresa de otro país)</td>\n",
              "      <td>850000</td>\n",
              "      <td>31</td>\n",
              "      <td>Varón Cis</td>\n",
              "    </tr>\n",
              "    <tr>\n",
              "      <th>2</th>\n",
              "      <td>Chaco</td>\n",
              "      <td>Full-Time</td>\n",
              "      <td>Staff (planta permanente)</td>\n",
              "      <td>115000</td>\n",
              "      <td>27</td>\n",
              "      <td>Varón Cis</td>\n",
              "    </tr>\n",
              "    <tr>\n",
              "      <th>3</th>\n",
              "      <td>Chaco</td>\n",
              "      <td>Full-Time</td>\n",
              "      <td>Remoto (empresa de otro país)</td>\n",
              "      <td>NaN</td>\n",
              "      <td>21</td>\n",
              "      <td>Varón Cis</td>\n",
              "    </tr>\n",
              "    <tr>\n",
              "      <th>4</th>\n",
              "      <td>Chaco</td>\n",
              "      <td>Full-Time</td>\n",
              "      <td>Staff (planta permanente)</td>\n",
              "      <td>125000</td>\n",
              "      <td>32</td>\n",
              "      <td>Varón Cis</td>\n",
              "    </tr>\n",
              "  </tbody>\n",
              "</table>\n",
              "</div>\n",
              "      <button class=\"colab-df-convert\" onclick=\"convertToInteractive('df-7b5bd35b-07d3-4bba-b969-ebf132a10844')\"\n",
              "              title=\"Convert this dataframe to an interactive table.\"\n",
              "              style=\"display:none;\">\n",
              "        \n",
              "  <svg xmlns=\"http://www.w3.org/2000/svg\" height=\"24px\"viewBox=\"0 0 24 24\"\n",
              "       width=\"24px\">\n",
              "    <path d=\"M0 0h24v24H0V0z\" fill=\"none\"/>\n",
              "    <path d=\"M18.56 5.44l.94 2.06.94-2.06 2.06-.94-2.06-.94-.94-2.06-.94 2.06-2.06.94zm-11 1L8.5 8.5l.94-2.06 2.06-.94-2.06-.94L8.5 2.5l-.94 2.06-2.06.94zm10 10l.94 2.06.94-2.06 2.06-.94-2.06-.94-.94-2.06-.94 2.06-2.06.94z\"/><path d=\"M17.41 7.96l-1.37-1.37c-.4-.4-.92-.59-1.43-.59-.52 0-1.04.2-1.43.59L10.3 9.45l-7.72 7.72c-.78.78-.78 2.05 0 2.83L4 21.41c.39.39.9.59 1.41.59.51 0 1.02-.2 1.41-.59l7.78-7.78 2.81-2.81c.8-.78.8-2.07 0-2.86zM5.41 20L4 18.59l7.72-7.72 1.47 1.35L5.41 20z\"/>\n",
              "  </svg>\n",
              "      </button>\n",
              "      \n",
              "  <style>\n",
              "    .colab-df-container {\n",
              "      display:flex;\n",
              "      flex-wrap:wrap;\n",
              "      gap: 12px;\n",
              "    }\n",
              "\n",
              "    .colab-df-convert {\n",
              "      background-color: #E8F0FE;\n",
              "      border: none;\n",
              "      border-radius: 50%;\n",
              "      cursor: pointer;\n",
              "      display: none;\n",
              "      fill: #1967D2;\n",
              "      height: 32px;\n",
              "      padding: 0 0 0 0;\n",
              "      width: 32px;\n",
              "    }\n",
              "\n",
              "    .colab-df-convert:hover {\n",
              "      background-color: #E2EBFA;\n",
              "      box-shadow: 0px 1px 2px rgba(60, 64, 67, 0.3), 0px 1px 3px 1px rgba(60, 64, 67, 0.15);\n",
              "      fill: #174EA6;\n",
              "    }\n",
              "\n",
              "    [theme=dark] .colab-df-convert {\n",
              "      background-color: #3B4455;\n",
              "      fill: #D2E3FC;\n",
              "    }\n",
              "\n",
              "    [theme=dark] .colab-df-convert:hover {\n",
              "      background-color: #434B5C;\n",
              "      box-shadow: 0px 1px 3px 1px rgba(0, 0, 0, 0.15);\n",
              "      filter: drop-shadow(0px 1px 2px rgba(0, 0, 0, 0.3));\n",
              "      fill: #FFFFFF;\n",
              "    }\n",
              "  </style>\n",
              "\n",
              "      <script>\n",
              "        const buttonEl =\n",
              "          document.querySelector('#df-7b5bd35b-07d3-4bba-b969-ebf132a10844 button.colab-df-convert');\n",
              "        buttonEl.style.display =\n",
              "          google.colab.kernel.accessAllowed ? 'block' : 'none';\n",
              "\n",
              "        async function convertToInteractive(key) {\n",
              "          const element = document.querySelector('#df-7b5bd35b-07d3-4bba-b969-ebf132a10844');\n",
              "          const dataTable =\n",
              "            await google.colab.kernel.invokeFunction('convertToInteractive',\n",
              "                                                     [key], {});\n",
              "          if (!dataTable) return;\n",
              "\n",
              "          const docLinkHtml = 'Like what you see? Visit the ' +\n",
              "            '<a target=\"_blank\" href=https://colab.research.google.com/notebooks/data_table.ipynb>data table notebook</a>'\n",
              "            + ' to learn more about interactive tables.';\n",
              "          element.innerHTML = '';\n",
              "          dataTable['output_type'] = 'display_data';\n",
              "          await google.colab.output.renderOutput(dataTable, element);\n",
              "          const docLink = document.createElement('div');\n",
              "          docLink.innerHTML = docLinkHtml;\n",
              "          element.appendChild(docLink);\n",
              "        }\n",
              "      </script>\n",
              "    </div>\n",
              "  </div>\n",
              "  "
            ]
          },
          "metadata": {},
          "execution_count": 11
        }
      ]
    },
    {
      "cell_type": "code",
      "source": [
        "dataset[['net_monthly_salary', 'province', 'dedication', 'age']].head()"
      ],
      "metadata": {
        "colab": {
          "base_uri": "https://localhost:8080/",
          "height": 206
        },
        "id": "rz_LRhi2f6S4",
        "outputId": "17793c97-4e49-4100-d669-f4e60ed62f5b"
      },
      "execution_count": null,
      "outputs": [
        {
          "output_type": "execute_result",
          "data": {
            "text/plain": [
              "  net_monthly_salary   province dedication age\n",
              "0             245000  Catamarca  Full-Time  35\n",
              "1             850000      Chaco  Full-Time  31\n",
              "2             115000      Chaco  Full-Time  27\n",
              "3                NaN      Chaco  Full-Time  21\n",
              "4             125000      Chaco  Full-Time  32"
            ],
            "text/html": [
              "\n",
              "  <div id=\"df-e3f5e9c4-cb9d-45e6-b5de-7a5374632c7f\">\n",
              "    <div class=\"colab-df-container\">\n",
              "      <div>\n",
              "<style scoped>\n",
              "    .dataframe tbody tr th:only-of-type {\n",
              "        vertical-align: middle;\n",
              "    }\n",
              "\n",
              "    .dataframe tbody tr th {\n",
              "        vertical-align: top;\n",
              "    }\n",
              "\n",
              "    .dataframe thead th {\n",
              "        text-align: right;\n",
              "    }\n",
              "</style>\n",
              "<table border=\"1\" class=\"dataframe\">\n",
              "  <thead>\n",
              "    <tr style=\"text-align: right;\">\n",
              "      <th></th>\n",
              "      <th>net_monthly_salary</th>\n",
              "      <th>province</th>\n",
              "      <th>dedication</th>\n",
              "      <th>age</th>\n",
              "    </tr>\n",
              "  </thead>\n",
              "  <tbody>\n",
              "    <tr>\n",
              "      <th>0</th>\n",
              "      <td>245000</td>\n",
              "      <td>Catamarca</td>\n",
              "      <td>Full-Time</td>\n",
              "      <td>35</td>\n",
              "    </tr>\n",
              "    <tr>\n",
              "      <th>1</th>\n",
              "      <td>850000</td>\n",
              "      <td>Chaco</td>\n",
              "      <td>Full-Time</td>\n",
              "      <td>31</td>\n",
              "    </tr>\n",
              "    <tr>\n",
              "      <th>2</th>\n",
              "      <td>115000</td>\n",
              "      <td>Chaco</td>\n",
              "      <td>Full-Time</td>\n",
              "      <td>27</td>\n",
              "    </tr>\n",
              "    <tr>\n",
              "      <th>3</th>\n",
              "      <td>NaN</td>\n",
              "      <td>Chaco</td>\n",
              "      <td>Full-Time</td>\n",
              "      <td>21</td>\n",
              "    </tr>\n",
              "    <tr>\n",
              "      <th>4</th>\n",
              "      <td>125000</td>\n",
              "      <td>Chaco</td>\n",
              "      <td>Full-Time</td>\n",
              "      <td>32</td>\n",
              "    </tr>\n",
              "  </tbody>\n",
              "</table>\n",
              "</div>\n",
              "      <button class=\"colab-df-convert\" onclick=\"convertToInteractive('df-e3f5e9c4-cb9d-45e6-b5de-7a5374632c7f')\"\n",
              "              title=\"Convert this dataframe to an interactive table.\"\n",
              "              style=\"display:none;\">\n",
              "        \n",
              "  <svg xmlns=\"http://www.w3.org/2000/svg\" height=\"24px\"viewBox=\"0 0 24 24\"\n",
              "       width=\"24px\">\n",
              "    <path d=\"M0 0h24v24H0V0z\" fill=\"none\"/>\n",
              "    <path d=\"M18.56 5.44l.94 2.06.94-2.06 2.06-.94-2.06-.94-.94-2.06-.94 2.06-2.06.94zm-11 1L8.5 8.5l.94-2.06 2.06-.94-2.06-.94L8.5 2.5l-.94 2.06-2.06.94zm10 10l.94 2.06.94-2.06 2.06-.94-2.06-.94-.94-2.06-.94 2.06-2.06.94z\"/><path d=\"M17.41 7.96l-1.37-1.37c-.4-.4-.92-.59-1.43-.59-.52 0-1.04.2-1.43.59L10.3 9.45l-7.72 7.72c-.78.78-.78 2.05 0 2.83L4 21.41c.39.39.9.59 1.41.59.51 0 1.02-.2 1.41-.59l7.78-7.78 2.81-2.81c.8-.78.8-2.07 0-2.86zM5.41 20L4 18.59l7.72-7.72 1.47 1.35L5.41 20z\"/>\n",
              "  </svg>\n",
              "      </button>\n",
              "      \n",
              "  <style>\n",
              "    .colab-df-container {\n",
              "      display:flex;\n",
              "      flex-wrap:wrap;\n",
              "      gap: 12px;\n",
              "    }\n",
              "\n",
              "    .colab-df-convert {\n",
              "      background-color: #E8F0FE;\n",
              "      border: none;\n",
              "      border-radius: 50%;\n",
              "      cursor: pointer;\n",
              "      display: none;\n",
              "      fill: #1967D2;\n",
              "      height: 32px;\n",
              "      padding: 0 0 0 0;\n",
              "      width: 32px;\n",
              "    }\n",
              "\n",
              "    .colab-df-convert:hover {\n",
              "      background-color: #E2EBFA;\n",
              "      box-shadow: 0px 1px 2px rgba(60, 64, 67, 0.3), 0px 1px 3px 1px rgba(60, 64, 67, 0.15);\n",
              "      fill: #174EA6;\n",
              "    }\n",
              "\n",
              "    [theme=dark] .colab-df-convert {\n",
              "      background-color: #3B4455;\n",
              "      fill: #D2E3FC;\n",
              "    }\n",
              "\n",
              "    [theme=dark] .colab-df-convert:hover {\n",
              "      background-color: #434B5C;\n",
              "      box-shadow: 0px 1px 3px 1px rgba(0, 0, 0, 0.15);\n",
              "      filter: drop-shadow(0px 1px 2px rgba(0, 0, 0, 0.3));\n",
              "      fill: #FFFFFF;\n",
              "    }\n",
              "  </style>\n",
              "\n",
              "      <script>\n",
              "        const buttonEl =\n",
              "          document.querySelector('#df-e3f5e9c4-cb9d-45e6-b5de-7a5374632c7f button.colab-df-convert');\n",
              "        buttonEl.style.display =\n",
              "          google.colab.kernel.accessAllowed ? 'block' : 'none';\n",
              "\n",
              "        async function convertToInteractive(key) {\n",
              "          const element = document.querySelector('#df-e3f5e9c4-cb9d-45e6-b5de-7a5374632c7f');\n",
              "          const dataTable =\n",
              "            await google.colab.kernel.invokeFunction('convertToInteractive',\n",
              "                                                     [key], {});\n",
              "          if (!dataTable) return;\n",
              "\n",
              "          const docLinkHtml = 'Like what you see? Visit the ' +\n",
              "            '<a target=\"_blank\" href=https://colab.research.google.com/notebooks/data_table.ipynb>data table notebook</a>'\n",
              "            + ' to learn more about interactive tables.';\n",
              "          element.innerHTML = '';\n",
              "          dataTable['output_type'] = 'display_data';\n",
              "          await google.colab.output.renderOutput(dataTable, element);\n",
              "          const docLink = document.createElement('div');\n",
              "          docLink.innerHTML = docLinkHtml;\n",
              "          element.appendChild(docLink);\n",
              "        }\n",
              "      </script>\n",
              "    </div>\n",
              "  </div>\n",
              "  "
            ]
          },
          "metadata": {},
          "execution_count": 14
        }
      ]
    },
    {
      "cell_type": "markdown",
      "source": [
        "Nota: Es importante tener el cuenta que algunas variables son **CONSECUENCIA** del salario, y no pueden usarse para predecirlo. Por ejemplo, si usamos la columna del salario bruto, o la satisfacción respecto a su sueldo.\n",
        "\n",
        "Gran parte del feature selection o engineering es conocer para qué serán usadas nuestras predicciones, cuál es la información de la que dispondremos, etc., que no profundizaremos por ahora.\n",
        "\n",
        "Nota: las columnas con las herramientas que utilizan en el trabajo son relevantes pero complicadas de procesar por el formato que tienen."
      ],
      "metadata": {
        "id": "YiBZC3MpcYe6"
      }
    },
    {
      "cell_type": "markdown",
      "source": [
        "### Sección 1.c: Limpieza\n",
        "\n",
        "Este conjunto de datos no está limpio o curado. Esto quiere decir que tiene valores faltantes y o con formato incorrecto. En la siguiente celda tienen código para limpiar algunas de las columnas, pero no es necesario que lo entiendan en detalle."
      ],
      "metadata": {
        "id": "BToi4HfZ0ReS"
      }
    },
    {
      "cell_type": "code",
      "source": [
        "type(dataset.net_monthly_salary.loc[0])"
      ],
      "metadata": {
        "colab": {
          "base_uri": "https://localhost:8080/"
        },
        "id": "Ddw9whTS1QQc",
        "outputId": "6df3e5e9-7252-4621-d617-1a7fdb53049a"
      },
      "execution_count": null,
      "outputs": [
        {
          "output_type": "execute_result",
          "data": {
            "text/plain": [
              "str"
            ]
          },
          "metadata": {},
          "execution_count": 15
        }
      ]
    },
    {
      "cell_type": "code",
      "source": [
        "def clean_numeric_column(colname: str):\n",
        "    # Convert the column to numeric, coercing non-numeric values to NaN\n",
        "    dataset[colname] = pandas.to_numeric(dataset[colname], errors='coerce')\n",
        "    # Drop rows with NaN values in the converted column\n",
        "    dataset.dropna(subset=[colname], inplace=True)\n",
        "    # Convert the column to integer\n",
        "    dataset[colname] = dataset[colname].astype(int)\n",
        "    return dataset\n",
        "\n",
        "dataset = clean_numeric_column(TARGET_COLUMN)\n",
        "dataset = clean_numeric_column('age')\n",
        "\n",
        "# Remove rows with outlier values.\n",
        "dataset = dataset[(dataset[TARGET_COLUMN] > 50000) & (dataset[TARGET_COLUMN] < 2000000)]\n",
        "dataset = dataset[(dataset['age'] > 18) & (dataset['age'] < 99)]"
      ],
      "metadata": {
        "id": "7SGGwlVy0K8K"
      },
      "execution_count": null,
      "outputs": []
    },
    {
      "cell_type": "code",
      "source": [
        "dataset[TARGET_COLUMN].describe()"
      ],
      "metadata": {
        "colab": {
          "base_uri": "https://localhost:8080/"
        },
        "id": "O6oVTSJD3KLa",
        "outputId": "a21b0aee-b7e3-403f-e397-991b2be7e285"
      },
      "execution_count": null,
      "outputs": [
        {
          "output_type": "execute_result",
          "data": {
            "text/plain": [
              "count    4.564000e+03\n",
              "mean     2.872673e+05\n",
              "std      2.567002e+05\n",
              "min      5.015000e+04\n",
              "25%      1.457345e+05\n",
              "50%      2.200000e+05\n",
              "75%      3.043868e+05\n",
              "max      1.955360e+06\n",
              "Name: net_monthly_salary, dtype: float64"
            ]
          },
          "metadata": {},
          "execution_count": 18
        }
      ]
    },
    {
      "cell_type": "code",
      "source": [
        "# You can visualize variables in the notebook, although pandas is not the best at it.\n",
        "dataset[TARGET_COLUMN].hist()"
      ],
      "metadata": {
        "colab": {
          "base_uri": "https://localhost:8080/",
          "height": 465
        },
        "id": "LjP7yylm0DoJ",
        "outputId": "109991a6-4165-4f5f-9ff7-a9a08c342657"
      },
      "execution_count": null,
      "outputs": [
        {
          "output_type": "execute_result",
          "data": {
            "text/plain": [
              "<Axes: >"
            ]
          },
          "metadata": {},
          "execution_count": 19
        },
        {
          "output_type": "display_data",
          "data": {
            "text/plain": [
              "<Figure size 640x480 with 1 Axes>"
            ],
            "image/png": "[encoded data removed]"
          },
          "metadata": {}
        }
      ]
    },
    {
      "cell_type": "markdown",
      "source": [
        "## Sección 3: Codificando los features\n",
        "\n",
        "En el aprendizaje automático, es común trabajar con conjuntos de datos que contienen características categóricas, es decir, variables que representan categorías o etiquetas en lugar de valores numéricos continuos. Sin embargo, los algoritmos de aprendizaje automático generalmente requieren que los datos se representen en forma numérica para poder ser procesados de manera adecuada. Por lo tanto, es necesario realizar una codificación de las características categóricas en forma de vectores numéricos. A continuación, se presentan algunos de los métodos más comunes para codificar características categóricas:\n",
        "\n",
        "* Codificación One-Hot (One-Hot Encoding): Cada categoría de la característica se convierte en una nueva característica binaria (o dummy), y se asigna el valor 1 si la observación pertenece a esa categoría y 0 en caso contrario. Esta codificación es útil cuando no se desea asignar un orden específico.\n",
        "Sin embargo, puede llevar a un aumento en la dimensionalidad del conjunto de datos si hay muchas categorías diferentes.\n",
        "\n",
        "* Codificación Ordinal: Las categorías se asignan a valores numéricos según un orden específico. Por ejemplo, si tenemos una característica \"Tamaño\" con categorías \"Pequeño\", \"Mediano\" y \"Grande\", podemos asignar los valores 0, 1 y 2 respectivamente. Esta codificación se utiliza cuando hay un orden natural entre las categorías y el modelo debe capturar esa relación ordinal.\n",
        "\n",
        "* Codificación de Etiquetas (Label Encoding): Se asigna un único valor numérico a cada categoría. No se considera el orden entre las categorías, sino simplemente se les asigna un número de manera arbitraria. Esta codificación se utiliza cuando las categorías no tienen un orden natural y cuando se desea reducir la dimensionalidad del conjunto de datos.\n",
        "\n",
        "Es importante tener en cuenta que la elección de la codificación adecuada depende del conjunto de datos y del algoritmo de aprendizaje automático que se utilizará. Tampoco profundizaremos en este tema, pero son bienvenidos a explorar otras codificaciones alternativas. Algunos algoritmos, como las redes neuronales, pueden manejar características categóricas directamente sin necesidad de codificación adicional."
      ],
      "metadata": {
        "id": "CxKf9v-Cex1B"
      }
    },
    {
      "cell_type": "markdown",
      "source": [
        "En el siguiente código, primero definimos la lista categorical_features que contiene los nombres de las características categóricas que deseamos codificar y la lista numerical_features que contiene los nombres de las características numéricas originales.\n",
        "\n",
        "La clase OneHotEncoder en scikit-learn se utiliza para realizar la codificación de variables categóricas en un formato numérico one-hot. Puede manejar automáticamente múltiples características categóricas (como provincia y nivel de estudio) y admite tanto matrices densas como matrices dispersas como entrada. Además, también permite la especificación de parámetros adicionales, como el manejo de características desconocidas durante la transformación y la inclusión de una columna adicional para representar la categoría por defecto.\n",
        "\n",
        "Una vez que se ha ajustado el OneHotEncoder a los datos de entrenamiento, se puede utilizar para transformar cualquier conjunto de datos nuevo, como datos de prueba o datos en producción, utilizando el mismo esquema de codificación aprendido.\n",
        "\n",
        "Después de crear la instancia de OneHotEncoder, utilizamos el método fit_transform para ajustar el codificador a los datos categóricos y transformarlos en una representación codificada. La salida de fit_transform es una matriz dispersa (sparse matrix), por lo que convertimos esta matriz a un arreglo de tipo numpy utilizando el método toarray().\n",
        "\n",
        "\n"
      ],
      "metadata": {
        "id": "V65tCIp2uyNe"
      }
    },
    {
      "cell_type": "code",
      "source": [
        "dataset.columns"
      ],
      "metadata": {
        "colab": {
          "base_uri": "https://localhost:8080/"
        },
        "id": "CGLp6czvvL9G",
        "outputId": "ed516271-729d-4e6e-a088-03966f3dde7c"
      },
      "execution_count": null,
      "outputs": [
        {
          "output_type": "execute_result",
          "data": {
            "text/plain": [
              "Index(['province', 'dedication', 'contract_type', 'net_monthly_salary', 'age',\n",
              "       'gender'],\n",
              "      dtype='object')"
            ]
          },
          "metadata": {},
          "execution_count": 20
        }
      ]
    },
    {
      "cell_type": "code",
      "source": [
        "# Lista de nombres de características categóricas, que queremos codificar\n",
        "CATEGORICAL_FEATURES = [\n",
        "    'province', 'dedication', 'contract_type',\n",
        "    'gender'\n",
        "]\n",
        "\n",
        "# Lista de nombres de características numéricas, que no queremos codificar\n",
        "NUMERICAL_FEATURES = ['age']\n"
      ],
      "metadata": {
        "id": "XrJQ6NMyHJ_P"
      },
      "execution_count": null,
      "outputs": []
    },
    {
      "cell_type": "markdown",
      "source": [
        "### Sección 3.a: Procesar datos categóricos"
      ],
      "metadata": {
        "id": "8PgoXb9CGggu"
      }
    },
    {
      "cell_type": "code",
      "source": [
        "from sklearn.preprocessing import OneHotEncoder\n",
        "\n",
        "# Obtener solo las características categóricas del dataframe\n",
        "categorical_data = dataset[CATEGORICAL_FEATURES]\n",
        "\n",
        "# Crear una instancia de OneHotEncoder\n",
        "encoder = OneHotEncoder()\n",
        "# Ajustar y transformar las características categóricas\n",
        "categorical_encoded = encoder.fit_transform(categorical_data).toarray()\n",
        "# Obtener las categorías codificadas como un DataFrame\n",
        "categorical_encoded = pandas.DataFrame(categorical_encoded, columns=encoder.get_feature_names_out(CATEGORICAL_FEATURES))\n",
        "print(categorical_encoded.shape)"
      ],
      "metadata": {
        "colab": {
          "base_uri": "https://localhost:8080/"
        },
        "id": "X5081XvuurQN",
        "outputId": "8345a415-5613-4d73-f626-cfbaefcb1e73"
      },
      "execution_count": null,
      "outputs": [
        {
          "output_type": "stream",
          "name": "stdout",
          "text": [
            "(4564, 150)\n"
          ]
        }
      ]
    },
    {
      "cell_type": "markdown",
      "source": [
        "### Sección 3.b: Procesar datos numéricos"
      ],
      "metadata": {
        "id": "dIDEwRESGqj9"
      }
    },
    {
      "cell_type": "code",
      "source": [
        "# Obtener solo las características numéricas del dataframe\n",
        "numerical_data = dataset[NUMERICAL_FEATURES]\n",
        "print(numerical_data.shape)"
      ],
      "metadata": {
        "colab": {
          "base_uri": "https://localhost:8080/"
        },
        "id": "cqkjOdtpG4ox",
        "outputId": "5230e134-266f-4f3e-fd5f-4dd3c367fa1d"
      },
      "execution_count": null,
      "outputs": [
        {
          "output_type": "stream",
          "name": "stdout",
          "text": [
            "(4564, 1)\n"
          ]
        }
      ]
    },
    {
      "cell_type": "markdown",
      "source": [
        "## TODO remove"
      ],
      "metadata": {
        "id": "mNLdgKdsHWSC"
      }
    },
    {
      "cell_type": "code",
      "source": [
        "from sklearn.preprocessing import MinMaxScaler\n",
        "\n",
        "# Crear una instancia de MinMaxScaler\n",
        "scaler = MinMaxScaler()\n",
        "\n",
        "# Normalizar los valores del DataFrame por columna\n",
        "normalized_values = scaler.fit_transform(numerical_data)\n",
        "\n",
        "# Crear un nuevo DataFrame con los valores normalizados\n",
        "numerical_data = pandas.DataFrame(normalized_values, columns=numerical_data.columns)\n",
        "\n",
        "# Imprimir el DataFrame normalizado\n",
        "numerical_data.head()"
      ],
      "metadata": {
        "colab": {
          "base_uri": "https://localhost:8080/",
          "height": 206
        },
        "id": "D7akk6hfGnuV",
        "outputId": "9aed7818-e95a-4984-9d98-baf1f2be195c"
      },
      "execution_count": null,
      "outputs": [
        {
          "output_type": "execute_result",
          "data": {
            "text/plain": [
              "        age\n",
              "0  0.340426\n",
              "1  0.255319\n",
              "2  0.170213\n",
              "3  0.276596\n",
              "4  0.255319"
            ],
            "text/html": [
              "\n",
              "  <div id=\"df-6603801f-1654-4622-a4d3-432d2989712c\">\n",
              "    <div class=\"colab-df-container\">\n",
              "      <div>\n",
              "<style scoped>\n",
              "    .dataframe tbody tr th:only-of-type {\n",
              "        vertical-align: middle;\n",
              "    }\n",
              "\n",
              "    .dataframe tbody tr th {\n",
              "        vertical-align: top;\n",
              "    }\n",
              "\n",
              "    .dataframe thead th {\n",
              "        text-align: right;\n",
              "    }\n",
              "</style>\n",
              "<table border=\"1\" class=\"dataframe\">\n",
              "  <thead>\n",
              "    <tr style=\"text-align: right;\">\n",
              "      <th></th>\n",
              "      <th>age</th>\n",
              "    </tr>\n",
              "  </thead>\n",
              "  <tbody>\n",
              "    <tr>\n",
              "      <th>0</th>\n",
              "      <td>0.340426</td>\n",
              "    </tr>\n",
              "    <tr>\n",
              "      <th>1</th>\n",
              "      <td>0.255319</td>\n",
              "    </tr>\n",
              "    <tr>\n",
              "      <th>2</th>\n",
              "      <td>0.170213</td>\n",
              "    </tr>\n",
              "    <tr>\n",
              "      <th>3</th>\n",
              "      <td>0.276596</td>\n",
              "    </tr>\n",
              "    <tr>\n",
              "      <th>4</th>\n",
              "      <td>0.255319</td>\n",
              "    </tr>\n",
              "  </tbody>\n",
              "</table>\n",
              "</div>\n",
              "      <button class=\"colab-df-convert\" onclick=\"convertToInteractive('df-6603801f-1654-4622-a4d3-432d2989712c')\"\n",
              "              title=\"Convert this dataframe to an interactive table.\"\n",
              "              style=\"display:none;\">\n",
              "        \n",
              "  <svg xmlns=\"http://www.w3.org/2000/svg\" height=\"24px\"viewBox=\"0 0 24 24\"\n",
              "       width=\"24px\">\n",
              "    <path d=\"M0 0h24v24H0V0z\" fill=\"none\"/>\n",
              "    <path d=\"M18.56 5.44l.94 2.06.94-2.06 2.06-.94-2.06-.94-.94-2.06-.94 2.06-2.06.94zm-11 1L8.5 8.5l.94-2.06 2.06-.94-2.06-.94L8.5 2.5l-.94 2.06-2.06.94zm10 10l.94 2.06.94-2.06 2.06-.94-2.06-.94-.94-2.06-.94 2.06-2.06.94z\"/><path d=\"M17.41 7.96l-1.37-1.37c-.4-.4-.92-.59-1.43-.59-.52 0-1.04.2-1.43.59L10.3 9.45l-7.72 7.72c-.78.78-.78 2.05 0 2.83L4 21.41c.39.39.9.59 1.41.59.51 0 1.02-.2 1.41-.59l7.78-7.78 2.81-2.81c.8-.78.8-2.07 0-2.86zM5.41 20L4 18.59l7.72-7.72 1.47 1.35L5.41 20z\"/>\n",
              "  </svg>\n",
              "      </button>\n",
              "      \n",
              "  <style>\n",
              "    .colab-df-container {\n",
              "      display:flex;\n",
              "      flex-wrap:wrap;\n",
              "      gap: 12px;\n",
              "    }\n",
              "\n",
              "    .colab-df-convert {\n",
              "      background-color: #E8F0FE;\n",
              "      border: none;\n",
              "      border-radius: 50%;\n",
              "      cursor: pointer;\n",
              "      display: none;\n",
              "      fill: #1967D2;\n",
              "      height: 32px;\n",
              "      padding: 0 0 0 0;\n",
              "      width: 32px;\n",
              "    }\n",
              "\n",
              "    .colab-df-convert:hover {\n",
              "      background-color: #E2EBFA;\n",
              "      box-shadow: 0px 1px 2px rgba(60, 64, 67, 0.3), 0px 1px 3px 1px rgba(60, 64, 67, 0.15);\n",
              "      fill: #174EA6;\n",
              "    }\n",
              "\n",
              "    [theme=dark] .colab-df-convert {\n",
              "      background-color: #3B4455;\n",
              "      fill: #D2E3FC;\n",
              "    }\n",
              "\n",
              "    [theme=dark] .colab-df-convert:hover {\n",
              "      background-color: #434B5C;\n",
              "      box-shadow: 0px 1px 3px 1px rgba(0, 0, 0, 0.15);\n",
              "      filter: drop-shadow(0px 1px 2px rgba(0, 0, 0, 0.3));\n",
              "      fill: #FFFFFF;\n",
              "    }\n",
              "  </style>\n",
              "\n",
              "      <script>\n",
              "        const buttonEl =\n",
              "          document.querySelector('#df-6603801f-1654-4622-a4d3-432d2989712c button.colab-df-convert');\n",
              "        buttonEl.style.display =\n",
              "          google.colab.kernel.accessAllowed ? 'block' : 'none';\n",
              "\n",
              "        async function convertToInteractive(key) {\n",
              "          const element = document.querySelector('#df-6603801f-1654-4622-a4d3-432d2989712c');\n",
              "          const dataTable =\n",
              "            await google.colab.kernel.invokeFunction('convertToInteractive',\n",
              "                                                     [key], {});\n",
              "          if (!dataTable) return;\n",
              "\n",
              "          const docLinkHtml = 'Like what you see? Visit the ' +\n",
              "            '<a target=\"_blank\" href=https://colab.research.google.com/notebooks/data_table.ipynb>data table notebook</a>'\n",
              "            + ' to learn more about interactive tables.';\n",
              "          element.innerHTML = '';\n",
              "          dataTable['output_type'] = 'display_data';\n",
              "          await google.colab.output.renderOutput(dataTable, element);\n",
              "          const docLink = document.createElement('div');\n",
              "          docLink.innerHTML = docLinkHtml;\n",
              "          element.appendChild(docLink);\n",
              "        }\n",
              "      </script>\n",
              "    </div>\n",
              "  </div>\n",
              "  "
            ]
          },
          "metadata": {},
          "execution_count": 27
        }
      ]
    },
    {
      "cell_type": "markdown",
      "source": [
        "### Sección 3.c: Concatenar todos los features"
      ],
      "metadata": {
        "id": "k688ldACGu4Q"
      }
    },
    {
      "cell_type": "code",
      "source": [
        "# Concatenar las características codificadas y las características numéricas\n",
        "encoded_dataset = pandas.concat(\n",
        "    [categorical_encoded, numerical_data.reset_index(drop=True)],\n",
        "    axis=1)\n",
        "encoded_dataset.shape"
      ],
      "metadata": {
        "colab": {
          "base_uri": "https://localhost:8080/"
        },
        "id": "wtjE63lgGt3o",
        "outputId": "adac31f7-60a0-4bc3-fc99-a5cd0fde0a3a"
      },
      "execution_count": null,
      "outputs": [
        {
          "output_type": "execute_result",
          "data": {
            "text/plain": [
              "(4564, 151)"
            ]
          },
          "metadata": {},
          "execution_count": 28
        }
      ]
    },
    {
      "cell_type": "code",
      "source": [
        "encoded_dataset.head()"
      ],
      "metadata": {
        "colab": {
          "base_uri": "https://localhost:8080/",
          "height": 438
        },
        "id": "N0A_zzL6xNXd",
        "outputId": "3fa0d2cd-e1ef-4722-de36-22ebcad918ad"
      },
      "execution_count": null,
      "outputs": [
        {
          "output_type": "execute_result",
          "data": {
            "text/plain": [
              "   province_Catamarca  province_Chaco  province_Chubut  \\\n",
              "0                 1.0             0.0              0.0   \n",
              "1                 0.0             1.0              0.0   \n",
              "2                 0.0             1.0              0.0   \n",
              "3                 0.0             1.0              0.0   \n",
              "4                 0.0             1.0              0.0   \n",
              "\n",
              "   province_Ciudad Autónoma de Buenos Aires  province_Corrientes  \\\n",
              "0                                       0.0                  0.0   \n",
              "1                                       0.0                  0.0   \n",
              "2                                       0.0                  0.0   \n",
              "3                                       0.0                  0.0   \n",
              "4                                       0.0                  0.0   \n",
              "\n",
              "   province_Córdoba  province_Entre Ríos  province_Formosa  province_Jujuy  \\\n",
              "0               0.0                  0.0               0.0             0.0   \n",
              "1               0.0                  0.0               0.0             0.0   \n",
              "2               0.0                  0.0               0.0             0.0   \n",
              "3               0.0                  0.0               0.0             0.0   \n",
              "4               0.0                  0.0               0.0             0.0   \n",
              "\n",
              "   province_La Pampa  ...  gender_que  \\\n",
              "0                0.0  ...         0.0   \n",
              "1                0.0  ...         0.0   \n",
              "2                0.0  ...         0.0   \n",
              "3                0.0  ...         0.0   \n",
              "4                0.0  ...         0.0   \n",
              "\n",
              "   gender_que mierda es esta pregunta, hombre y punto, como q \"asignado\" :facepalm:  \\\n",
              "0                                                0.0                                  \n",
              "1                                                0.0                                  \n",
              "2                                                0.0                                  \n",
              "3                                                0.0                                  \n",
              "4                                                0.0                                  \n",
              "\n",
              "   gender_si pinta pinta  \\\n",
              "0                    0.0   \n",
              "1                    0.0   \n",
              "2                    0.0   \n",
              "3                    0.0   \n",
              "4                    0.0   \n",
              "\n",
              "   gender_soy hombre, pero pongan genero no orientacion sexual, no la compliquen tanto.  \\\n",
              "0                                                0.0                                      \n",
              "1                                                0.0                                      \n",
              "2                                                0.0                                      \n",
              "3                                                0.0                                      \n",
              "4                                                0.0                                      \n",
              "\n",
              "   gender_un paquete de galletitas pepas carrefour  gender_varon  \\\n",
              "0                                              0.0           0.0   \n",
              "1                                              0.0           0.0   \n",
              "2                                              0.0           0.0   \n",
              "3                                              0.0           0.0   \n",
              "4                                              0.0           0.0   \n",
              "\n",
              "   gender_varon a secas...   gender_varon común  gender_varón       age  \n",
              "0                       0.0                 0.0           0.0  0.340426  \n",
              "1                       0.0                 0.0           0.0  0.255319  \n",
              "2                       0.0                 0.0           0.0  0.170213  \n",
              "3                       0.0                 0.0           0.0  0.276596  \n",
              "4                       0.0                 0.0           0.0  0.255319  \n",
              "\n",
              "[5 rows x 151 columns]"
            ],
            "text/html": [
              "\n",
              "  <div id=\"df-f122f16f-3bd1-4245-8032-6897dc3e839c\">\n",
              "    <div class=\"colab-df-container\">\n",
              "      <div>\n",
              "<style scoped>\n",
              "    .dataframe tbody tr th:only-of-type {\n",
              "        vertical-align: middle;\n",
              "    }\n",
              "\n",
              "    .dataframe tbody tr th {\n",
              "        vertical-align: top;\n",
              "    }\n",
              "\n",
              "    .dataframe thead th {\n",
              "        text-align: right;\n",
              "    }\n",
              "</style>\n",
              "<table border=\"1\" class=\"dataframe\">\n",
              "  <thead>\n",
              "    <tr style=\"text-align: right;\">\n",
              "      <th></th>\n",
              "      <th>province_Catamarca</th>\n",
              "      <th>province_Chaco</th>\n",
              "      <th>province_Chubut</th>\n",
              "      <th>province_Ciudad Autónoma de Buenos Aires</th>\n",
              "      <th>province_Corrientes</th>\n",
              "      <th>province_Córdoba</th>\n",
              "      <th>province_Entre Ríos</th>\n",
              "      <th>province_Formosa</th>\n",
              "      <th>province_Jujuy</th>\n",
              "      <th>province_La Pampa</th>\n",
              "      <th>...</th>\n",
              "      <th>gender_que</th>\n",
              "      <th>gender_que mierda es esta pregunta, hombre y punto, como q \"asignado\" :facepalm:</th>\n",
              "      <th>gender_si pinta pinta</th>\n",
              "      <th>gender_soy hombre, pero pongan genero no orientacion sexual, no la compliquen tanto.</th>\n",
              "      <th>gender_un paquete de galletitas pepas carrefour</th>\n",
              "      <th>gender_varon</th>\n",
              "      <th>gender_varon a secas...</th>\n",
              "      <th>gender_varon común</th>\n",
              "      <th>gender_varón</th>\n",
              "      <th>age</th>\n",
              "    </tr>\n",
              "  </thead>\n",
              "  <tbody>\n",
              "    <tr>\n",
              "      <th>0</th>\n",
              "      <td>1.0</td>\n",
              "      <td>0.0</td>\n",
              "      <td>0.0</td>\n",
              "      <td>0.0</td>\n",
              "      <td>0.0</td>\n",
              "      <td>0.0</td>\n",
              "      <td>0.0</td>\n",
              "      <td>0.0</td>\n",
              "      <td>0.0</td>\n",
              "      <td>0.0</td>\n",
              "      <td>...</td>\n",
              "      <td>0.0</td>\n",
              "      <td>0.0</td>\n",
              "      <td>0.0</td>\n",
              "      <td>0.0</td>\n",
              "      <td>0.0</td>\n",
              "      <td>0.0</td>\n",
              "      <td>0.0</td>\n",
              "      <td>0.0</td>\n",
              "      <td>0.0</td>\n",
              "      <td>0.340426</td>\n",
              "    </tr>\n",
              "    <tr>\n",
              "      <th>1</th>\n",
              "      <td>0.0</td>\n",
              "      <td>1.0</td>\n",
              "      <td>0.0</td>\n",
              "      <td>0.0</td>\n",
              "      <td>0.0</td>\n",
              "      <td>0.0</td>\n",
              "      <td>0.0</td>\n",
              "      <td>0.0</td>\n",
              "      <td>0.0</td>\n",
              "      <td>0.0</td>\n",
              "      <td>...</td>\n",
              "      <td>0.0</td>\n",
              "      <td>0.0</td>\n",
              "      <td>0.0</td>\n",
              "      <td>0.0</td>\n",
              "      <td>0.0</td>\n",
              "      <td>0.0</td>\n",
              "      <td>0.0</td>\n",
              "      <td>0.0</td>\n",
              "      <td>0.0</td>\n",
              "      <td>0.255319</td>\n",
              "    </tr>\n",
              "    <tr>\n",
              "      <th>2</th>\n",
              "      <td>0.0</td>\n",
              "      <td>1.0</td>\n",
              "      <td>0.0</td>\n",
              "      <td>0.0</td>\n",
              "      <td>0.0</td>\n",
              "      <td>0.0</td>\n",
              "      <td>0.0</td>\n",
              "      <td>0.0</td>\n",
              "      <td>0.0</td>\n",
              "      <td>0.0</td>\n",
              "      <td>...</td>\n",
              "      <td>0.0</td>\n",
              "      <td>0.0</td>\n",
              "      <td>0.0</td>\n",
              "      <td>0.0</td>\n",
              "      <td>0.0</td>\n",
              "      <td>0.0</td>\n",
              "      <td>0.0</td>\n",
              "      <td>0.0</td>\n",
              "      <td>0.0</td>\n",
              "      <td>0.170213</td>\n",
              "    </tr>\n",
              "    <tr>\n",
              "      <th>3</th>\n",
              "      <td>0.0</td>\n",
              "      <td>1.0</td>\n",
              "      <td>0.0</td>\n",
              "      <td>0.0</td>\n",
              "      <td>0.0</td>\n",
              "      <td>0.0</td>\n",
              "      <td>0.0</td>\n",
              "      <td>0.0</td>\n",
              "      <td>0.0</td>\n",
              "      <td>0.0</td>\n",
              "      <td>...</td>\n",
              "      <td>0.0</td>\n",
              "      <td>0.0</td>\n",
              "      <td>0.0</td>\n",
              "      <td>0.0</td>\n",
              "      <td>0.0</td>\n",
              "      <td>0.0</td>\n",
              "      <td>0.0</td>\n",
              "      <td>0.0</td>\n",
              "      <td>0.0</td>\n",
              "      <td>0.276596</td>\n",
              "    </tr>\n",
              "    <tr>\n",
              "      <th>4</th>\n",
              "      <td>0.0</td>\n",
              "      <td>1.0</td>\n",
              "      <td>0.0</td>\n",
              "      <td>0.0</td>\n",
              "      <td>0.0</td>\n",
              "      <td>0.0</td>\n",
              "      <td>0.0</td>\n",
              "      <td>0.0</td>\n",
              "      <td>0.0</td>\n",
              "      <td>0.0</td>\n",
              "      <td>...</td>\n",
              "      <td>0.0</td>\n",
              "      <td>0.0</td>\n",
              "      <td>0.0</td>\n",
              "      <td>0.0</td>\n",
              "      <td>0.0</td>\n",
              "      <td>0.0</td>\n",
              "      <td>0.0</td>\n",
              "      <td>0.0</td>\n",
              "      <td>0.0</td>\n",
              "      <td>0.255319</td>\n",
              "    </tr>\n",
              "  </tbody>\n",
              "</table>\n",
              "<p>5 rows × 151 columns</p>\n",
              "</div>\n",
              "      <button class=\"colab-df-convert\" onclick=\"convertToInteractive('df-f122f16f-3bd1-4245-8032-6897dc3e839c')\"\n",
              "              title=\"Convert this dataframe to an interactive table.\"\n",
              "              style=\"display:none;\">\n",
              "        \n",
              "  <svg xmlns=\"http://www.w3.org/2000/svg\" height=\"24px\"viewBox=\"0 0 24 24\"\n",
              "       width=\"24px\">\n",
              "    <path d=\"M0 0h24v24H0V0z\" fill=\"none\"/>\n",
              "    <path d=\"M18.56 5.44l.94 2.06.94-2.06 2.06-.94-2.06-.94-.94-2.06-.94 2.06-2.06.94zm-11 1L8.5 8.5l.94-2.06 2.06-.94-2.06-.94L8.5 2.5l-.94 2.06-2.06.94zm10 10l.94 2.06.94-2.06 2.06-.94-2.06-.94-.94-2.06-.94 2.06-2.06.94z\"/><path d=\"M17.41 7.96l-1.37-1.37c-.4-.4-.92-.59-1.43-.59-.52 0-1.04.2-1.43.59L10.3 9.45l-7.72 7.72c-.78.78-.78 2.05 0 2.83L4 21.41c.39.39.9.59 1.41.59.51 0 1.02-.2 1.41-.59l7.78-7.78 2.81-2.81c.8-.78.8-2.07 0-2.86zM5.41 20L4 18.59l7.72-7.72 1.47 1.35L5.41 20z\"/>\n",
              "  </svg>\n",
              "      </button>\n",
              "      \n",
              "  <style>\n",
              "    .colab-df-container {\n",
              "      display:flex;\n",
              "      flex-wrap:wrap;\n",
              "      gap: 12px;\n",
              "    }\n",
              "\n",
              "    .colab-df-convert {\n",
              "      background-color: #E8F0FE;\n",
              "      border: none;\n",
              "      border-radius: 50%;\n",
              "      cursor: pointer;\n",
              "      display: none;\n",
              "      fill: #1967D2;\n",
              "      height: 32px;\n",
              "      padding: 0 0 0 0;\n",
              "      width: 32px;\n",
              "    }\n",
              "\n",
              "    .colab-df-convert:hover {\n",
              "      background-color: #E2EBFA;\n",
              "      box-shadow: 0px 1px 2px rgba(60, 64, 67, 0.3), 0px 1px 3px 1px rgba(60, 64, 67, 0.15);\n",
              "      fill: #174EA6;\n",
              "    }\n",
              "\n",
              "    [theme=dark] .colab-df-convert {\n",
              "      background-color: #3B4455;\n",
              "      fill: #D2E3FC;\n",
              "    }\n",
              "\n",
              "    [theme=dark] .colab-df-convert:hover {\n",
              "      background-color: #434B5C;\n",
              "      box-shadow: 0px 1px 3px 1px rgba(0, 0, 0, 0.15);\n",
              "      filter: drop-shadow(0px 1px 2px rgba(0, 0, 0, 0.3));\n",
              "      fill: #FFFFFF;\n",
              "    }\n",
              "  </style>\n",
              "\n",
              "      <script>\n",
              "        const buttonEl =\n",
              "          document.querySelector('#df-f122f16f-3bd1-4245-8032-6897dc3e839c button.colab-df-convert');\n",
              "        buttonEl.style.display =\n",
              "          google.colab.kernel.accessAllowed ? 'block' : 'none';\n",
              "\n",
              "        async function convertToInteractive(key) {\n",
              "          const element = document.querySelector('#df-f122f16f-3bd1-4245-8032-6897dc3e839c');\n",
              "          const dataTable =\n",
              "            await google.colab.kernel.invokeFunction('convertToInteractive',\n",
              "                                                     [key], {});\n",
              "          if (!dataTable) return;\n",
              "\n",
              "          const docLinkHtml = 'Like what you see? Visit the ' +\n",
              "            '<a target=\"_blank\" href=https://colab.research.google.com/notebooks/data_table.ipynb>data table notebook</a>'\n",
              "            + ' to learn more about interactive tables.';\n",
              "          element.innerHTML = '';\n",
              "          dataTable['output_type'] = 'display_data';\n",
              "          await google.colab.output.renderOutput(dataTable, element);\n",
              "          const docLink = document.createElement('div');\n",
              "          docLink.innerHTML = docLinkHtml;\n",
              "          element.appendChild(docLink);\n",
              "        }\n",
              "      </script>\n",
              "    </div>\n",
              "  </div>\n",
              "  "
            ]
          },
          "metadata": {},
          "execution_count": 29
        }
      ]
    },
    {
      "cell_type": "markdown",
      "source": [
        "Observemos que el conjunto de datos procesado `encoded_dataset` conserva el mismo número de filas pero ahora tiene más columnas.\n",
        "\n",
        "La clase `OneHotEncoder` nos permitió conservar el nombre del feature original al cual corresponde cada columna codificada y el valor que ésta tenía originalmente."
      ],
      "metadata": {
        "id": "WJ6NqS2SxHsy"
      }
    },
    {
      "cell_type": "markdown",
      "source": [
        "Hemos terminado de construir nuestra matriz y podemos pasar al entrenamiento. Es muy importante que estemos seguros que la matriz no contiene la variable objetivo."
      ],
      "metadata": {
        "id": "f4bqKn9ezsFA"
      }
    },
    {
      "cell_type": "code",
      "source": [
        "assert TARGET_COLUMN not in encoded_dataset"
      ],
      "metadata": {
        "id": "ZP7eUhiuznWy"
      },
      "execution_count": null,
      "outputs": []
    },
    {
      "cell_type": "markdown",
      "source": [
        "## Sección 4: Entrenamiento"
      ],
      "metadata": {
        "id": "6M4nbs-xzJLw"
      }
    },
    {
      "cell_type": "code",
      "source": [
        "# This is one of the few instances where naming variables X and y is acceptable.\n",
        "X = encoded_dataset\n",
        "y = dataset[TARGET_COLUMN]"
      ],
      "metadata": {
        "id": "D2iuJxJZENcn"
      },
      "execution_count": null,
      "outputs": []
    },
    {
      "cell_type": "markdown",
      "source": [
        "Si quisieramos agregar más transformaciones a nuestros datos, debemos hacerlo (en la mayoría de los casos) antes de separar entre los conjuntos de train y test."
      ],
      "metadata": {
        "id": "fEiaO2YQFX3Z"
      }
    },
    {
      "cell_type": "code",
      "source": [],
      "metadata": {
        "id": "BbzEsW2f9dvJ"
      },
      "execution_count": null,
      "outputs": []
    },
    {
      "cell_type": "markdown",
      "source": [
        "### Sección 4.a: División del conjunto de datos\n",
        "\n",
        "El overfitting (sobreajuste) es un fenómeno que ocurre cuando un modelo de aprendizaje automático se ajusta demasiado a los datos de entrenamiento, capturando el ruido o detalles insignificantes en los datos. En otras palabras, el modelo se vuelve demasiado complejo y se adapta demasiado bien a los datos de entrenamiento específicos, pero generaliza mal a nuevos datos o conjuntos de prueba.\n",
        "\n",
        "Para evitar el overfitting y evaluar la capacidad de generalización de un modelo, es necesario separar los conjuntos de datos en conjuntos de entrenamiento o *train* y prueba o *test*.\n",
        "\n",
        "El conjunto de entrenamiento se utiliza para ajustar los parámetros del modelo y aprender las relaciones entre las características y la variable objetivo.\n",
        "El conjunto de prueba se utiliza para evaluar el rendimiento del modelo en datos no vistos previamente. Al utilizar datos independientes para la evaluación, podemos obtener una estimación más realista de cómo se desempeñará el modelo en el mundo real.\n",
        "\n",
        "Esta separación nos permite detectar si el modelo está sobreajustando los datos de entrenamiento. Si el modelo tiene un buen rendimiento en el conjunto de entrenamiento pero un rendimiento deficiente en el conjunto de prueba, es una indicación de que el modelo puede estar sufriendo de overfitting. En ese caso, es necesario realizar ajustes al modelo, como reducir su complejidad o utilizar técnicas de regularización, para mejorar su capacidad de generalización."
      ],
      "metadata": {
        "id": "t8sZYUnmOAUg"
      }
    },
    {
      "cell_type": "code",
      "source": [
        "from sklearn.model_selection import train_test_split\n",
        "from sklearn.linear_model import LinearRegression\n",
        "from sklearn import metrics\n",
        "\n",
        "# Dividir el conjunto de datos en entrenamiento y prueba\n",
        "X_train, X_test, y_train, y_test = train_test_split(\n",
        "    X, y, test_size=0.2, random_state=52)\n",
        "\n",
        "# Crear una instancia de regresión lineal\n",
        "linear_regression = LinearRegression()\n",
        "\n",
        "# Entrenar el modelo de regresión lineal\n",
        "linear_regression.fit(X_train, y_train);"
      ],
      "metadata": {
        "id": "HmWF09p4urNV"
      },
      "execution_count": null,
      "outputs": []
    },
    {
      "cell_type": "code",
      "source": [
        "# Realizar predicciones en el conjunto de prueba\n",
        "y_pred = linear_regression.predict(X_test)\n",
        "\n",
        "# Calcular el error cuadrático medio en el conjunto de prueba\n",
        "mse = metrics.mean_squared_error(y_test, y_pred)\n",
        "print(f\"Error cuadrático medio: {mse}\")\n",
        "print(f\"Raiz del error cuadrático medio: {numpy.sqrt(mse)}\")\n",
        "print(f\"Error absoluto medio: {metrics.mean_absolute_error(y_test, y_pred):.0f}\")"
      ],
      "metadata": {
        "colab": {
          "base_uri": "https://localhost:8080/"
        },
        "id": "6JrNUWkVurKn",
        "outputId": "18b52835-222d-4471-cdae-2f84eb1a346d"
      },
      "execution_count": null,
      "outputs": [
        {
          "output_type": "stream",
          "name": "stdout",
          "text": [
            "Error cuadrático medio: 1.447114204645599e+33\n",
            "Raiz del error cuadrático medio: 3.804095430776677e+16\n",
            "Error absoluto medio: 1904337260889626\n"
          ]
        }
      ]
    },
    {
      "cell_type": "markdown",
      "source": [
        "Por qué tenemos un error tan grande! Hay una serie de valores que dan predicciones extremas."
      ],
      "metadata": {
        "id": "f5eWu_sNMtBm"
      }
    },
    {
      "cell_type": "code",
      "source": [
        "y_pred[(y_pred > 10e10) | (y_pred < -10e10)]"
      ],
      "metadata": {
        "colab": {
          "base_uri": "https://localhost:8080/"
        },
        "id": "et0svPXLMsSF",
        "outputId": "c0091be9-623a-4a89-ac21-4c96edeeea30"
      },
      "execution_count": null,
      "outputs": [
        {
          "output_type": "execute_result",
          "data": {
            "text/plain": [
              "array([ 2.69775700e+16,  2.69775700e+16,  2.69775700e+16,  2.69775700e+16,\n",
              "        3.65424840e+16,  2.69775700e+16, -1.37734711e+17,  2.65991256e+16,\n",
              "       -2.28803878e+16,  4.04852953e+16,  3.72595515e+16,  2.69775700e+16,\n",
              "        2.69775700e+16,  2.62306502e+16, -4.54607367e+15, -1.13515809e+18,\n",
              "        2.84254220e+16,  2.69775700e+16,  2.69775700e+16])"
            ]
          },
          "metadata": {},
          "execution_count": 35
        }
      ]
    },
    {
      "cell_type": "code",
      "source": [
        "# Re-calcular metricas sacando esos ejemplos\n",
        "valid_examples = (y_pred < 1e10) & (y_pred > -1e10)\n",
        "mse = metrics.mean_squared_error(y_test[valid_examples], y_pred[valid_examples])\n",
        "print(f\"Error cuadrático medio: {mse}\")\n",
        "print(f\"Raiz del error cuadrático medio: {numpy.sqrt(mse)}\")\n",
        "print(f\"Error absoluto medio: {metrics.mean_absolute_error(y_test[valid_examples], y_pred[valid_examples])}\")"
      ],
      "metadata": {
        "colab": {
          "base_uri": "https://localhost:8080/"
        },
        "id": "hxEUTHGHMcXB",
        "outputId": "b9ed7269-76a5-43f8-d893-872c04af4f33"
      },
      "execution_count": null,
      "outputs": [
        {
          "output_type": "stream",
          "name": "stdout",
          "text": [
            "Error cuadrático medio: 49707778281.1745\n",
            "Raiz del error cuadrático medio: 222952.4125933032\n",
            "Error absoluto medio: 134386.27964205816\n"
          ]
        }
      ]
    },
    {
      "cell_type": "markdown",
      "source": [
        "## Ejercicios\n",
        "\n",
        "El objetivo de los ejercicios de esta clase es que se familiaricen con el uso de notebooks y python. Esperamos que rompan cosas y se las ingenien para volver a arreglarlas.\n",
        "\n",
        "El segundo objetivo es que comiencen a ser **meticulosos** en el planeamiento, la ejecución y el registro de los resultados que van obteniendo. Cada experimento tiene su objetivo, no siempre es la maximización de la performance.\n",
        "\n",
        "1. ¿Qué explicación se puede dar al bajo rendimiento del modelo antes de eliminar las predicciones extremas? Detectar si existe underfitting u overfitting.\n",
        "1. Realizar 3 experimentos distintos agregando y eliminando caracteristicas del dataset. El objetivo es analizar la importancia de cada característica.\n",
        "  1. ¿Cuál es la combinación de características más exitosa?\n",
        "  2. ¿Puede concluir que alguna características es más relevante que otras? ¿O menos relevante?\n",
        "  3. ¿Existe correlación entre el tamaño de la matriz de entrenamiento y el rendimiento del clasificador?\n",
        "2. Explorar otros hiperparámetros tanto de la clase OneHotEncoding como del clasificador. El objetivo es optimizar el rendimiento del clasificador. Se pueden utilizar otros clasificadores de la libreria scikit-learn, adaptando correctamente sus parámetros.\n",
        "2. Tratar de optimizar el rendimiento del clasificador. Se pueden utilizar otros clasificadores de la libreria scikit-learn, adaptando correctamente sus parámetros."
      ],
      "metadata": {
        "id": "eOKN94sawKAZ"
      }
    },
    {
      "cell_type": "markdown",
      "source": [
        "## Ejercicios extra\n",
        "\n",
        "1. Analizar si existen features categóricas que puedan ser codificadas ordinalmente. Implementar y comparar los resultados obtenidos. ¿Cuál es el beneficio o detrimento de utilizar esta técnica en lugar del one-hot encoding?\n",
        "2. Investigar que es e implementar k-fold cross validation. ¿Cuál es el beneficio de esta técnica?"
      ],
      "metadata": {
        "id": "lsOVKvrRveiJ"
      }
    },
    {
      "cell_type": "code",
      "source": [],
      "metadata": {
        "id": "JGPiM_scvrsN"
      },
      "execution_count": null,
      "outputs": []
    }
  ]
}